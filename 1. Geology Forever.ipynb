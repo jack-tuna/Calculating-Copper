{
 "cells": [
  {
   "cell_type": "markdown",
   "metadata": {},
   "source": [
    "# Calculating Copper - Jack Maughan"
   ]
  },
  {
   "cell_type": "markdown",
   "metadata": {},
   "source": [
    "The ExploreSA Gawler Challenge was designed to find and apply new approaches to mineral exploration, using state geology and geophysics data.  The following notebook is a part of the series, __'Calculating Copper'__ and contains my thinking, processing and results for the challenge, with a idea of recreating a reproducible workflow for similar mineral exploration problems. "
   ]
  },
  {
   "cell_type": "markdown",
   "metadata": {},
   "source": [
    "![Title](https://docs.google.com/uc?export=download&id=1goFsreNqBipsuyFEOwi6cGgrpWwARCEt)"
   ]
  },
  {
   "cell_type": "markdown",
   "metadata": {},
   "source": [
    "### *1. Geology Forever - Background Information*\n",
    "#### 2. Hair and Makeup - Target Variable and Features\n",
    "#### 3. Suit Up - Compiling Dataframe and Feature Statistics\n",
    "#### 4. My Friend Robot - Machine Learning Model Creation\n",
    "#### 5. Gold Rush - Model Validation and Results\n",
    "#### 6. Extra Extra - Unsupervised Learning and CoDa on Soil Geochemistry"
   ]
  },
  {
   "cell_type": "markdown",
   "metadata": {},
   "source": [
    "## Geology Forever"
   ]
  },
  {
   "cell_type": "markdown",
   "metadata": {},
   "source": [
    "If there’s one thing I’ve learnt in my recent data science escapades is that without any thoughtful investigation into your objective and/or data, using machine learning as a solution to any problem is effectively useless.  As the saying ‘Trash In = Trash Out’ goes, it is crucial to understand how you are going to set up your project and what you want to get out of it. You can make almost any model sing through the power of overfitting/underfitting data, but to understand when you’re model is singing in the right key you need to have domain knowledge.\n",
    "\n",
    "The _Geology Forever_ phase covers the background, thinking and setting up of what I want to achieve from modelling the available data. To start off I want to answer two major questions."
   ]
  },
  {
   "cell_type": "markdown",
   "metadata": {},
   "source": [
    "What is the objective?\n",
    "- To create machine learning models to predict mineral deposit probability over the Gawler Craton\n",
    "\n",
    "What data is available?\n",
    "- Geology, Geophysics, Geochemistry, Existing Mines/Deposits Locations"
   ]
  },
  {
   "cell_type": "markdown",
   "metadata": {},
   "source": [
    "### Setting a Target Variable"
   ]
  },
  {
   "cell_type": "markdown",
   "metadata": {},
   "source": [
    "As Geology is a very complex and interpretable science, the ‘exactness’ of data can become a bit of an issue when looking at data analytics. To decrease the complexity, some geological thought should go into our workflow. Let’s keep it simple for a start and work out what we’re trying to solve."
   ]
  },
  {
   "cell_type": "markdown",
   "metadata": {},
   "source": [
    "##### What kind of Commodity are we trying to discover? Base metals, gold, minerals, construction materials?\n",
    "Base metal and precious metal deposits are going to be what we are chasing in this example, namely Cu, Au, Pb, Zn and Ag dominant deposits. \n",
    "\n",
    "##### What kind of deposit? Mineral systems model vs ore deposit model approach?\n",
    "For this kind of ML problem many assumptions must be made, which makes it hard to stick with the traditional ore deposit models (IOCG, VMS etc) where we are exploring for specific geological settings. Because of this we will follow a mineral systems approach, where there is a hydrothermal/magmatic source and a structural trap for our metal deposits."
   ]
  },
  {
   "cell_type": "markdown",
   "metadata": {},
   "source": [
    "![Title](https://docs.google.com/uc?export=download&id=1XQuhy_vphGZOjjBLGupwOnxZaipxMZx7)"
   ]
  },
  {
   "cell_type": "markdown",
   "metadata": {},
   "source": [
    "In the image above, we can see existing exploration models over South Australia and that the Gawler Craton study area is mainly comprised of IOCG, Orogenic/Intrusive Au and Epithermal deposits. Our challenge is to 'standardise' these deposits and create a way of representing mineralisation across our study area as a whole. To do this we take the mineral systems approach and make an assumption that all these base metal deposits originate from the same (or similar) source(s), and that they were emplaced within various traps about the craton."
   ]
  },
  {
   "cell_type": "markdown",
   "metadata": {},
   "source": [
    "![Title](https://docs.google.com/uc?export=download&id=1oJOr0zE9YzvLly_igpoqZ6DSgNSHTiWR)"
   ]
  },
  {
   "cell_type": "markdown",
   "metadata": {},
   "source": [
    "##### What scale? Scale of deposits and scale of our exploration area?\n",
    "Big, we are fishing for tuna not tommies here. We will be exploring for Olympic Dam/Carapeteena size deposits within the craton. Over the study area we will look at gridded areas of 250m x 250m dimensions. These dimensions should be small enough for drill hole data to represent an area of interest, while also not putting too much strain on computing power.\n",
    "\n",
    "##### What is the target age? Host, structure, mineralisation age?\n",
    "Knowing how all the pieces of the geological puzzle fit in a 4 dimensional sense (to the best of our abilities) is important for how we set up our target data. The below Space-Time plot (focused on gold mineralisation) shows us that a major polymetallic mineralisation event occurred across the craton during the Mesoproterozoic approximately (1590Ma). This adds a temporal constraint that any lithologies younger than this event will be less likely to host significant mineralisation. We will keep this in mind going forward, and attempt to target lithologies formed prior or during this event."
   ]
  },
  {
   "cell_type": "markdown",
   "metadata": {},
   "source": [
    "![Title](https://docs.google.com/uc?export=download&id=1xbabVIpGy06XcO6TEgJhx-f4JYPZ2BHb)"
   ]
  },
  {
   "cell_type": "markdown",
   "metadata": {},
   "source": [
    "##### What is the target depth? Within cover or deeper into basement?\n",
    "This question ties in nicely with the previous question, in where are we taking samples from to determine whether an area is of interest or not. As it is extremely difficult to determine the lithological age from drilling assays without geochronology data, we will have to make some assumptions that depths correlate somewhat with age. For this we will make the assumption that any assay data taken within the cover is to be excluded from our study, as reflected in the image below. The light green area in the drill trace represents a 'mineralised' assay and the red represents a 'barren assay', which will be used to determine whether an area is of interest or not. Note, that the far right drillhole that does not penetrate deeper than the unconsolidated cover is not included within the data set."
   ]
  },
  {
   "cell_type": "markdown",
   "metadata": {},
   "source": [
    "![Title](https://docs.google.com/uc?export=download&id=1efDRvDr9cVJ_3WwnBTc3uDVIU4aWpjWu)"
   ]
  },
  {
   "cell_type": "markdown",
   "metadata": {},
   "source": [
    "##### What other components of exploration should we consider?\n",
    "The below image shows a summary of deposits within the craton (with a focus on Au) and can give us some more insight on how we tackle this problem. We can see there are a wide range of hosts for these deposits, so trying to fingerprint a single lithology type across the craton doesn't appear useful. All but one of these 'mineral fields' are related to oxidised intrusions. This gives us good information regarding a source for the base metals but raises the issue on how to numerically represent this across the whole craton. "
   ]
  },
  {
   "cell_type": "markdown",
   "metadata": {},
   "source": [
    "![Title](https://docs.google.com/uc?export=download&id=1E7kaWkxfsJ3ZU3Zs1-0mBSd9b6ZcoTpJ)"
   ]
  },
  {
   "cell_type": "markdown",
   "metadata": {},
   "source": [
    "From this background investigation and geological thinking we will look to create a binary classification machine learning problem. The target variable for the project will consist of 250m x 250m gridded data points over the whole craton, where each data point is marked as being barren, mineralised or unknown. The barren and mineralised areas will be utilised for machine learning (hence binary classification) and models will then be fitted to the unknown areas and validated against existing deposits. In the next notebook, __Hair and Makeup__, we will look at how we are going to define this target variable and what data is available to create our machine learning dataset."
   ]
  }
 ],
 "metadata": {
  "kernelspec": {
   "display_name": "Python 3",
   "language": "python",
   "name": "python3"
  },
  "language_info": {
   "codemirror_mode": {
    "name": "ipython",
    "version": 3
   },
   "file_extension": ".py",
   "mimetype": "text/x-python",
   "name": "python",
   "nbconvert_exporter": "python",
   "pygments_lexer": "ipython3",
   "version": "3.7.4"
  }
 },
 "nbformat": 4,
 "nbformat_minor": 4
}
